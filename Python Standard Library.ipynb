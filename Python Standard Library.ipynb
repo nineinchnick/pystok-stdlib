{
 "cells": [
  {
   "cell_type": "markdown",
   "metadata": {
    "slideshow": {
     "slide_type": "slide"
    }
   },
   "source": [
    "# The Python Standard Library\n",
    "\n",
    "## Subjective overview"
   ]
  },
  {
   "cell_type": "markdown",
   "metadata": {
    "slideshow": {
     "slide_type": "slide"
    }
   },
   "source": [
    "## 27. Debugging and Profiling\n",
    "\n",
    "* 27.1. bdb — Debugger framework\n",
    "* 27.2. faulthandler — Dump the Python traceback\n",
    "* **27.3. pdb — The Python Debugger**\n",
    "* **27.4. The Python Profilers**\n",
    "* **27.5. timeit — Measure execution time of small code snippets**\n",
    "* 27.6. trace — Trace or track Python statement execution\n",
    "* 27.7. tracemalloc — Trace memory allocations"
   ]
  },
  {
   "cell_type": "code",
   "execution_count": null,
   "metadata": {
    "collapsed": true,
    "slideshow": {
     "slide_type": "slide"
    }
   },
   "outputs": [],
   "source": [
    "#!/usr/bin/env python\n",
    "# -*- coding: utf-8 -*-\n",
    "\n",
    "import argparse\n",
    "\n",
    "\n",
    "def doit():\n",
    "    print('Done')\n",
    "\n",
    "\n",
    "def main(dry_run=False):\n",
    "    doit()\n",
    "\n",
    "\n",
    "if __name__ == '__main__':\n",
    "    parser = argparse.ArgumentParser(description=\"Demo script\")\n",
    "    parser.add_argument('-d', '--dry_run', action='store_true',\n",
    "                        help='don\\'t execute any actions, just log them')\n",
    "    options = parser.parse_args()\n",
    "    main(dry_run=options.dry_run)\n"
   ]
  },
  {
   "cell_type": "code",
   "execution_count": null,
   "metadata": {
    "collapsed": true,
    "slideshow": {
     "slide_type": "slide"
    }
   },
   "outputs": [],
   "source": [
    "#!/usr/bin/env python\n",
    "# -*- coding: utf-8 -*-\n",
    "\n",
    "import argparse\n",
    "\n",
    "\n",
    "def doit():\n",
    "    import pdb; pdb.set_trace()\n",
    "    print('Done')\n",
    "\n",
    "\n",
    "def main(dry_run=False):\n",
    "    doit()\n",
    "\n",
    "\n",
    "if __name__ == '__main__':\n",
    "    parser = argparse.ArgumentParser(description=\"Demo script\")\n",
    "    parser.add_argument('-d', '--dry_run', action='store_true',\n",
    "                        help='don\\'t execute any actions, just log them')\n",
    "    options = parser.parse_args()\n",
    "    main(dry_run=options.dry_run)\n"
   ]
  },
  {
   "cell_type": "markdown",
   "metadata": {
    "slideshow": {
     "slide_type": "slide"
    }
   },
   "source": [
    "```\n",
    "% python demo.py\n",
    "\n",
    "> /home/jwas/src/pystok-stdlib/demo.py(9)doit()\n",
    "-> print('Done')\n",
    "(Pdb) \n",
    "```"
   ]
  },
  {
   "cell_type": "markdown",
   "metadata": {
    "slideshow": {
     "slide_type": "slide"
    }
   },
   "source": [
    "```\n",
    "% python -m pdb demo.py \n",
    "\n",
    "> /home/jwas/src/pystok-stdlib/demo.py(4)<module>()\n",
    "-> import argparse\n",
    "(Pdb) b doit\n",
    "Breakpoint 1 at /home/jwas/src/pystok-stdlib/demo.py:7\n",
    "(Pdb) run -d\n",
    "Restarting demo.py with arguments:\n",
    "\tdemo.py\n",
    "> /home/jwas/src/pystok-stdlib/demo.py(4)<module>()\n",
    "-> import argparse\n",
    "(Pdb) \n",
    "```"
   ]
  },
  {
   "cell_type": "markdown",
   "metadata": {
    "slideshow": {
     "slide_type": "slide"
    }
   },
   "source": [
    "```\n",
    "% python -m timeit '\"%s\" % 5'\n",
    "100000000 loops, best of 3: 0.00672 usec per loop\n",
    "```"
   ]
  },
  {
   "cell_type": "markdown",
   "metadata": {
    "slideshow": {
     "slide_type": "subslide"
    }
   },
   "source": [
    "```\n",
    "% python -m timeit '\"%s\" % 5'\n",
    "100000000 loops, best of 3: 0.00672 usec per loop\n",
    "\n",
    "% python -m timeit '\"{}\".format(5)'\n",
    "10000000 loops, best of 3: 0.115 usec per loop\n",
    "```"
   ]
  },
  {
   "cell_type": "markdown",
   "metadata": {
    "slideshow": {
     "slide_type": "subslide"
    }
   },
   "source": [
    "```\n",
    "% python -m timeit '\"%s\" % 5'\n",
    "100000000 loops, best of 3: 0.00672 usec per loop\n",
    "\n",
    "% python -m timeit '\"{}\".format(5)'\n",
    "10000000 loops, best of 3: 0.115 usec per loop\n",
    "\n",
    "% ipython\n",
    "Python 3.6.4 (default, Dec 23 2017, 19:07:07) \n",
    "Type 'copyright', 'credits' or 'license' for more information\n",
    "IPython 6.2.1 -- An enhanced Interactive Python. Type '?' for help.\n",
    "\n",
    "In [1]: %timeit \"{}\".format(5)\n",
    "117 ns ± 0.319 ns per loop (mean ± std. dev. of 7 runs, 10000000 loops each)\n",
    "```"
   ]
  },
  {
   "cell_type": "code",
   "execution_count": null,
   "metadata": {
    "collapsed": true,
    "slideshow": {
     "slide_type": "slide"
    }
   },
   "outputs": [],
   "source": [
    "import logging\n",
    "import time\n",
    "from functools import wraps\n",
    "\n",
    "logger = logging.getLogger(__name__)\n",
    "\n",
    "\n",
    "def timelog(method):\n",
    "    @wraps(method)\n",
    "    def wrapper(*args, **kwargs):\n",
    "        before = time.perf_counter()\n",
    "        result = method(*args, **kwargs)\n",
    "        after = time.perf_counter()\n",
    "\n",
    "        logger.debug('Timed %s (%s, %s): %.2f s',\n",
    "                     method.__name__, args, kwargs, after - before)\n",
    "        return result\n",
    "\n",
    "    return wrapper"
   ]
  },
  {
   "cell_type": "code",
   "execution_count": null,
   "metadata": {
    "collapsed": true,
    "slideshow": {
     "slide_type": "slide"
    }
   },
   "outputs": [],
   "source": [
    "@timelog\n",
    "def doit():\n",
    "    time.sleep(5)\n",
    "    print('Done')\n"
   ]
  },
  {
   "cell_type": "markdown",
   "metadata": {
    "slideshow": {
     "slide_type": "subslide"
    }
   },
   "source": [
    "```\n",
    "% ./demo.py \n",
    "Done\n",
    "2018-01-04 22:37:50,908 DEBUG decorators Timed doit ((), {}): 5.01 s\n",
    "```"
   ]
  },
  {
   "cell_type": "code",
   "execution_count": null,
   "metadata": {
    "collapsed": true,
    "slideshow": {
     "slide_type": "slide"
    }
   },
   "outputs": [],
   "source": [
    "# https://gist.github.com/nealtodd/2489618\n",
    "def proflog(sort_args=['cumulative'], print_args=[10]):\n",
    "    profiler = Profile()\n",
    "\n",
    "    def decorator(method):\n",
    "        @wraps(method)\n",
    "        def wrapper(*args, **kwargs):\n",
    "            try:\n",
    "                result = profiler.runcall(method, *args, **kwargs)\n",
    "            finally:\n",
    "                s = io.StringIO()\n",
    "                stats = pstats.Stats(profiler, stream=s)\n",
    "                stats.strip_dirs().sort_stats(*sort_args).\\\n",
    "                    print_stats(*print_args)\n",
    "                logger.debug('Profiled %s (%s, %s): %s',\n",
    "                             method.__name__, args, kwargs, s.getvalue())\n",
    "            return result\n",
    "        return wrapper\n",
    "    return decorator"
   ]
  },
  {
   "cell_type": "markdown",
   "metadata": {
    "slideshow": {
     "slide_type": "subslide"
    }
   },
   "source": [
    "```\n",
    "% ./demo.py \n",
    "Done\n",
    "2018-01-04 22:45:24,738 DEBUG decorators Profiled doit ((), {}):          4 function calls in 5.005 seconds\n",
    "\n",
    "   Ordered by: cumulative time\n",
    "\n",
    "   ncalls  tottime  percall  cumtime  percall filename:lineno(function)\n",
    "        1    0.000    0.000    5.005    5.005 demo.py:11(doit)\n",
    "        1    5.005    5.005    5.005    5.005 {built-in method time.sleep}\n",
    "        1    0.000    0.000    0.000    0.000 {built-in method builtins.print}\n",
    "        1    0.000    0.000    0.000    0.000 {method 'disable' of '_lsprof.Profiler' objects}\n",
    "```"
   ]
  },
  {
   "cell_type": "markdown",
   "metadata": {},
   "source": [
    "## 26. Development Tools\n",
    "\n",
    "* 26.1. typing — Support for type hints\n",
    "* 26.2. pydoc — Documentation generator and online help system\n",
    "* **26.3. doctest — Test interactive Python examples**\n",
    "* 26.4. unittest — Unit testing framework\n",
    "* 26.5. unittest.mock — mock object library\n",
    "* 26.6. unittest.mock — getting started\n",
    "* 26.7. 2to3 - Automated Python 2 to 3 code translation\n",
    "* 26.8. test — Regression tests package for Python\n",
    "* 26.9. test.support — Utilities for the Python test suite\n"
   ]
  }
 ],
 "metadata": {
  "celltoolbar": "Slideshow",
  "kernelspec": {
   "display_name": "Python 3",
   "language": "python",
   "name": "python3"
  },
  "language_info": {
   "codemirror_mode": {
    "name": "ipython",
    "version": 3
   },
   "file_extension": ".py",
   "mimetype": "text/x-python",
   "name": "python",
   "nbconvert_exporter": "python",
   "pygments_lexer": "ipython3",
   "version": "3.6.4"
  }
 },
 "nbformat": 4,
 "nbformat_minor": 2
}
