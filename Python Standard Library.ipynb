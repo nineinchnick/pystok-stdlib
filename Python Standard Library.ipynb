{
 "cells": [
  {
   "cell_type": "markdown",
   "metadata": {
    "slideshow": {
     "slide_type": "slide"
    }
   },
   "source": [
    "# The Python Standard Library\n",
    "\n",
    "## Subjective overview"
   ]
  },
  {
   "cell_type": "markdown",
   "metadata": {
    "slideshow": {
     "slide_type": "slide"
    }
   },
   "source": [
    "## 27. Debugging and Profiling\n",
    "\n",
    "* 27.1. bdb — Debugger framework\n",
    "* 27.2. faulthandler — Dump the Python traceback\n",
    "* **27.3. pdb — The Python Debugger**\n",
    "* **27.4. The Python Profilers**\n",
    "* **27.5. timeit — Measure execution time of small code snippets**\n",
    "* 27.6. trace — Trace or track Python statement execution\n",
    "* 27.7. tracemalloc — Trace memory allocations"
   ]
  },
  {
   "cell_type": "code",
   "execution_count": null,
   "metadata": {
    "collapsed": true,
    "slideshow": {
     "slide_type": "slide"
    }
   },
   "outputs": [],
   "source": [
    "#!/usr/bin/env python\n",
    "# -*- coding: utf-8 -*-\n",
    "\n",
    "import argparse\n",
    "\n",
    "\n",
    "def doit():\n",
    "    print('Done')\n",
    "\n",
    "\n",
    "def main(dry_run=False):\n",
    "    doit()\n",
    "\n",
    "\n",
    "if __name__ == '__main__':\n",
    "    parser = argparse.ArgumentParser(description=\"Demo script\")\n",
    "    parser.add_argument('-d', '--dry_run', action='store_true',\n",
    "                        help='don\\'t execute any actions, just log them')\n",
    "    options = parser.parse_args()\n",
    "    main(dry_run=options.dry_run)\n"
   ]
  },
  {
   "cell_type": "code",
   "execution_count": null,
   "metadata": {
    "collapsed": true,
    "slideshow": {
     "slide_type": "slide"
    }
   },
   "outputs": [],
   "source": [
    "#!/usr/bin/env python\n",
    "# -*- coding: utf-8 -*-\n",
    "\n",
    "import argparse\n",
    "\n",
    "\n",
    "def doit():\n",
    "    import pdb; pdb.set_trace()\n",
    "    print('Done')\n",
    "\n",
    "\n",
    "def main(dry_run=False):\n",
    "    doit()\n",
    "\n",
    "\n",
    "if __name__ == '__main__':\n",
    "    parser = argparse.ArgumentParser(description=\"Demo script\")\n",
    "    parser.add_argument('-d', '--dry_run', action='store_true',\n",
    "                        help='don\\'t execute any actions, just log them')\n",
    "    options = parser.parse_args()\n",
    "    main(dry_run=options.dry_run)\n"
   ]
  },
  {
   "cell_type": "markdown",
   "metadata": {
    "slideshow": {
     "slide_type": "slide"
    }
   },
   "source": [
    "```\n",
    "% python demo.py\n",
    "\n",
    "> /home/jwas/src/pystok-stdlib/demo.py(9)doit()\n",
    "-> print('Done')\n",
    "(Pdb) \n",
    "```"
   ]
  },
  {
   "cell_type": "markdown",
   "metadata": {
    "slideshow": {
     "slide_type": "slide"
    }
   },
   "source": [
    "```\n",
    "% python -m pdb demo.py \n",
    "\n",
    "> /home/jwas/src/pystok-stdlib/demo.py(4)<module>()\n",
    "-> import argparse\n",
    "(Pdb) b doit\n",
    "Breakpoint 1 at /home/jwas/src/pystok-stdlib/demo.py:7\n",
    "(Pdb) run -d\n",
    "Restarting demo.py with arguments:\n",
    "\tdemo.py\n",
    "> /home/jwas/src/pystok-stdlib/demo.py(4)<module>()\n",
    "-> import argparse\n",
    "(Pdb) \n",
    "```"
   ]
  },
  {
   "cell_type": "markdown",
   "metadata": {
    "slideshow": {
     "slide_type": "slide"
    }
   },
   "source": [
    "```\n",
    "% python -m timeit '\"%s\" % 5'\n",
    "100000000 loops, best of 3: 0.00672 usec per loop\n",
    "```"
   ]
  },
  {
   "cell_type": "markdown",
   "metadata": {
    "slideshow": {
     "slide_type": "subslide"
    }
   },
   "source": [
    "```\n",
    "% python -m timeit '\"%s\" % 5'\n",
    "100000000 loops, best of 3: 0.00672 usec per loop\n",
    "\n",
    "% python -m timeit '\"{}\".format(5)'\n",
    "10000000 loops, best of 3: 0.115 usec per loop\n",
    "```"
   ]
  },
  {
   "cell_type": "markdown",
   "metadata": {
    "slideshow": {
     "slide_type": "subslide"
    }
   },
   "source": [
    "```\n",
    "% python -m timeit '\"%s\" % 5'\n",
    "100000000 loops, best of 3: 0.00672 usec per loop\n",
    "\n",
    "% python -m timeit '\"{}\".format(5)'\n",
    "10000000 loops, best of 3: 0.115 usec per loop\n",
    "\n",
    "% ipython\n",
    "Python 3.6.4 (default, Dec 23 2017, 19:07:07) \n",
    "Type 'copyright', 'credits' or 'license' for more information\n",
    "IPython 6.2.1 -- An enhanced Interactive Python. Type '?' for help.\n",
    "\n",
    "In [1]: %timeit \"{}\".format(5)\n",
    "117 ns ± 0.319 ns per loop (mean ± std. dev. of 7 runs, 10000000 loops each)\n",
    "```"
   ]
  },
  {
   "cell_type": "code",
   "execution_count": null,
   "metadata": {
    "collapsed": true,
    "slideshow": {
     "slide_type": "slide"
    }
   },
   "outputs": [],
   "source": [
    "import logging\n",
    "import time\n",
    "from functools import wraps\n",
    "\n",
    "logger = logging.getLogger(__name__)\n",
    "\n",
    "\n",
    "def timelog(method):\n",
    "    @wraps(method)\n",
    "    def wrapper(*args, **kwargs):\n",
    "        before = time.perf_counter()\n",
    "        result = method(*args, **kwargs)\n",
    "        after = time.perf_counter()\n",
    "\n",
    "        logger.debug('Timed %s (%s, %s): %.2f s',\n",
    "                     method.__name__, args, kwargs, after - before)\n",
    "        return result\n",
    "\n",
    "    return wrapper"
   ]
  },
  {
   "cell_type": "code",
   "execution_count": null,
   "metadata": {
    "collapsed": true,
    "slideshow": {
     "slide_type": "slide"
    }
   },
   "outputs": [],
   "source": [
    "@timelog\n",
    "def doit():\n",
    "    time.sleep(5)\n",
    "    print('Done')\n"
   ]
  },
  {
   "cell_type": "markdown",
   "metadata": {
    "slideshow": {
     "slide_type": "subslide"
    }
   },
   "source": [
    "```\n",
    "% ./demo.py \n",
    "Done\n",
    "2018-01-04 22:37:50,908 DEBUG decorators Timed doit ((), {}): 5.01 s\n",
    "```"
   ]
  },
  {
   "cell_type": "code",
   "execution_count": null,
   "metadata": {
    "collapsed": true,
    "slideshow": {
     "slide_type": "slide"
    }
   },
   "outputs": [],
   "source": [
    "# https://gist.github.com/nealtodd/2489618\n",
    "def proflog(sort_args=['cumulative'], print_args=[10]):\n",
    "    profiler = Profile()\n",
    "\n",
    "    def decorator(method):\n",
    "        @wraps(method)\n",
    "        def wrapper(*args, **kwargs):\n",
    "            try:\n",
    "                result = profiler.runcall(method, *args, **kwargs)\n",
    "            finally:\n",
    "                s = io.StringIO()\n",
    "                stats = pstats.Stats(profiler, stream=s)\n",
    "                stats.strip_dirs().sort_stats(*sort_args).\\\n",
    "                    print_stats(*print_args)\n",
    "                logger.debug('Profiled %s (%s, %s): %s',\n",
    "                             method.__name__, args, kwargs, s.getvalue())\n",
    "            return result\n",
    "        return wrapper\n",
    "    return decorator"
   ]
  },
  {
   "cell_type": "markdown",
   "metadata": {
    "slideshow": {
     "slide_type": "subslide"
    }
   },
   "source": [
    "```\n",
    "% ./demo.py \n",
    "Done\n",
    "2018-01-04 22:45:24,738 DEBUG decorators Profiled doit ((), {}):          4 function calls in 5.005 seconds\n",
    "\n",
    "   Ordered by: cumulative time\n",
    "\n",
    "   ncalls  tottime  percall  cumtime  percall filename:lineno(function)\n",
    "        1    0.000    0.000    5.005    5.005 demo.py:11(doit)\n",
    "        1    5.005    5.005    5.005    5.005 {built-in method time.sleep}\n",
    "        1    0.000    0.000    0.000    0.000 {built-in method builtins.print}\n",
    "        1    0.000    0.000    0.000    0.000 {method 'disable' of '_lsprof.Profiler' objects}\n",
    "```"
   ]
  },
  {
   "cell_type": "markdown",
   "metadata": {
    "slideshow": {
     "slide_type": "slide"
    }
   },
   "source": [
    "## 26. Development Tools\n",
    "\n",
    "* 26.1. typing — Support for type hints\n",
    "* 26.2. pydoc — Documentation generator and online help system\n",
    "* **26.3. doctest — Test interactive Python examples**\n",
    "* 26.4. unittest — Unit testing framework\n",
    "* 26.5. unittest.mock — mock object library\n",
    "* 26.6. unittest.mock — getting started\n",
    "* 26.7. 2to3 - Automated Python 2 to 3 code translation\n",
    "* 26.8. test — Regression tests package for Python\n",
    "* 26.9. test.support — Utilities for the Python test suite\n"
   ]
  },
  {
   "cell_type": "code",
   "execution_count": null,
   "metadata": {
    "slideshow": {
     "slide_type": "slide"
    }
   },
   "outputs": [],
   "source": [
    "@timelog\n",
    "def doit(n=None):\n",
    "    \"\"\"Returns the n argument or prints Done.\n",
    "\n",
    "    >>> [doit(5) for n in range(3)]\n",
    "    [5, 5, 5]\"\"\"\n",
    "    time.sleep(1)\n",
    "    if n is None:\n",
    "        print('Done')\n",
    "    return n"
   ]
  },
  {
   "cell_type": "markdown",
   "metadata": {
    "slideshow": {
     "slide_type": "slide"
    }
   },
   "source": [
    "```\n",
    "% ./demo.py                \n",
    "Done\n",
    "2018-01-04 22:56:55,359 DEBUG decorators Timed doit ((), {}): 1.00 s\n",
    "\n",
    "% python -m doctest demo.py\n",
    "2018-01-04 22:56:40,537 DEBUG decorators Timed doit ((5,), {}): 1.00 s\n",
    "2018-01-04 22:56:41,539 DEBUG decorators Timed doit ((5,), {}): 1.00 s\n",
    "2018-01-04 22:56:42,540 DEBUG decorators Timed doit ((5,), {}): 1.00 s\n",
    "```"
   ]
  },
  {
   "cell_type": "markdown",
   "metadata": {
    "slideshow": {
     "slide_type": "slide"
    }
   },
   "source": [
    "## 16. Generic Operating System Services\n",
    "\n",
    "* 16.1. os — Miscellaneous operating system interfaces\n",
    "* 16.2. io — Core tools for working with streams\n",
    "* **16.3. time — Time access and conversions**\n",
    "* **16.4. argparse — Parser for command-line options, arguments and sub-commands**\n",
    "* 16.5. getopt — C-style parser for command line options\n",
    "* **16.6. logging — Logging facility for Python**\n",
    "* 16.7. logging.config — Logging configuration\n",
    "* 16.8. logging.handlers — Logging handlers\n",
    "* 16.9. getpass — Portable password input\n",
    "* 16.10. curses — Terminal handling for character-cell displays\n",
    "* 16.11. curses.textpad — Text input widget for curses programs\n",
    "* 16.12. curses.ascii — Utilities for ASCII characters\n",
    "* 16.13. curses.panel — A panel stack extension for curses\n",
    "* 16.14. platform — Access to underlying platform’s identifying data\n",
    "* 16.15. errno — Standard errno system symbols\n",
    "* 16.16. ctypes — A foreign function library for Python\n"
   ]
  },
  {
   "cell_type": "markdown",
   "metadata": {
    "slideshow": {
     "slide_type": "slide"
    }
   },
   "source": [
    "## 8.3. collections\n",
    "\n",
    "* 8.3.1. ChainMap objects\n",
    "  * 8.3.1.1. ChainMap Examples and Recipes\n",
    "* 8.3.2. Counter objects\n",
    "* 8.3.3. deque objects\n",
    "  * 8.3.3.1. deque Recipes\n",
    "* 8.3.4. defaultdict objects\n",
    "  * 8.3.4.1. defaultdict Examples\n",
    "* 8.3.5. namedtuple() Factory Function for Tuples with Named Fields\n",
    "* 8.3.6. OrderedDict objects\n",
    "  * 8.3.6.1. OrderedDict Examples and Recipes\n",
    "* 8.3.7. UserDict objects\n",
    "* 8.3.8. UserList objects\n",
    "* 8.3.9. UserString objects\n",
    "\n"
   ]
  },
  {
   "cell_type": "code",
   "execution_count": 4,
   "metadata": {
    "slideshow": {
     "slide_type": "slide"
    }
   },
   "outputs": [
    {
     "name": "stdout",
     "output_type": "stream",
     "text": [
      "2\n"
     ]
    }
   ],
   "source": [
    "a = {'a': 1}\n",
    "b = {'b': 2}\n",
    "a.update(b)\n",
    "print(a['b'])"
   ]
  },
  {
   "cell_type": "code",
   "execution_count": 6,
   "metadata": {
    "slideshow": {
     "slide_type": "subslide"
    }
   },
   "outputs": [
    {
     "name": "stdout",
     "output_type": "stream",
     "text": [
      "3\n"
     ]
    }
   ],
   "source": [
    "from collections import ChainMap\n",
    "a = [{'a': 1},\n",
    "     {'b': 2},\n",
    "     {'c': 3}]\n",
    "c = ChainMap(*a)\n",
    "print(c['c'])"
   ]
  },
  {
   "cell_type": "code",
   "execution_count": 7,
   "metadata": {
    "slideshow": {
     "slide_type": "slide"
    }
   },
   "outputs": [
    {
     "data": {
      "text/plain": [
       "[('blue', 3), ('red', 2)]"
      ]
     },
     "execution_count": 7,
     "metadata": {},
     "output_type": "execute_result"
    }
   ],
   "source": [
    "from collections import Counter\n",
    "\n",
    "c = Counter(['red', 'blue', 'red', 'green', 'blue', 'blue'])\n",
    "c.most_common(2)\n"
   ]
  },
  {
   "cell_type": "markdown",
   "metadata": {
    "slideshow": {
     "slide_type": "slide"
    }
   },
   "source": [
    "*class* collections.**deque**([*iterable*[, *maxlen*]])\n",
    "\n",
    "Deques are a generalization of stacks and queues (the name is pronounced “deck” and is short for “double-ended queue”). Deques support thread-safe, memory efficient appends and pops from either side of the deque with approximately the same **O(1) performance in either direction**.\n",
    "\n",
    "Though list objects support similar operations, they are optimized for fast fixed-length operations and incur O(n) memory movement costs for pop(0) and insert(0, v) operations which change both the size and position of the underlying data representation.\n",
    "\n",
    "If maxlen is not specified or is None, deques may grow to an arbitrary length. Otherwise, the deque is bounded to the specified maximum length. **Once a bounded length deque is full, when new items are added, a corresponding number of items are discarded from the opposite end.** Bounded length deques provide functionality similar to the tail filter in Unix. They are also useful for tracking transactions and other pools of data where only the most recent activity is of interest."
   ]
  },
  {
   "cell_type": "code",
   "execution_count": 8,
   "metadata": {
    "slideshow": {
     "slide_type": "slide"
    }
   },
   "outputs": [
    {
     "data": {
      "text/plain": [
       "'{\"Animalia\": {\"Chordata\": {\"Mammalia\": {\"Carnivora\": {\"Felidae\": {\"Felis\": {\"cat\": {}}, \"Panthera\": {\"lion\": {}}}, \"Canidae\": {\"Canis\": {\"dog\": {}, \"coyote\": {}}}}}}}, \"Plantae\": {\"Solanales\": {\"Solanaceae\": {\"Solanum\": {\"tomato\": {}, \"potato\": {}}}, \"Convolvulaceae\": {\"Ipomoea\": {\"sweet potato\": {}}}}}}'"
      ]
     },
     "execution_count": 8,
     "metadata": {},
     "output_type": "execute_result"
    }
   ],
   "source": [
    "# https://gist.github.com/hrldcpr/2012250\n",
    "from collections import defaultdict\n",
    "\n",
    "def tree(): return defaultdict(tree)\n",
    "\n",
    "taxonomy = tree()\n",
    "taxonomy['Animalia']['Chordata']['Mammalia']['Carnivora']['Felidae']['Felis']['cat']\n",
    "taxonomy['Animalia']['Chordata']['Mammalia']['Carnivora']['Felidae']['Panthera']['lion']\n",
    "taxonomy['Animalia']['Chordata']['Mammalia']['Carnivora']['Canidae']['Canis']['dog']\n",
    "taxonomy['Animalia']['Chordata']['Mammalia']['Carnivora']['Canidae']['Canis']['coyote']\n",
    "taxonomy['Plantae']['Solanales']['Solanaceae']['Solanum']['tomato']\n",
    "taxonomy['Plantae']['Solanales']['Solanaceae']['Solanum']['potato']\n",
    "taxonomy['Plantae']['Solanales']['Convolvulaceae']['Ipomoea']['sweet potato']\n",
    "\n",
    "import json\n",
    "json.dumps(taxonomy)"
   ]
  },
  {
   "cell_type": "code",
   "execution_count": 10,
   "metadata": {
    "scrolled": true,
    "slideshow": {
     "slide_type": "slide"
    }
   },
   "outputs": [
    {
     "name": "stdout",
     "output_type": "stream",
     "text": [
      "John CEO\n",
      "Jack CTO\n"
     ]
    }
   ],
   "source": [
    "from collections import namedtuple\n",
    "EmployeeRecord = namedtuple('EmployeeRecord', 'name, age, title, department, paygrade')\n",
    "\n",
    "import csv\n",
    "for emp in map(EmployeeRecord._make, csv.reader(open(\"employees.csv\", \"r\"))):\n",
    "    print(emp.name, emp.title)"
   ]
  },
  {
   "cell_type": "markdown",
   "metadata": {
    "slideshow": {
     "slide_type": "slide"
    }
   },
   "source": [
    "## 8.3.6. OrderedDict objects"
   ]
  },
  {
   "cell_type": "markdown",
   "metadata": {
    "slideshow": {
     "slide_type": "slide"
    }
   },
   "source": [
    "## 4. Built-in Types\n",
    "\n",
    "* 4.1. Truth Value Testing\n",
    "* 4.2. Boolean Operations — and, or, not\n",
    "* 4.3. Comparisons\n",
    "* 4.4. Numeric Types — int, float, complex\n",
    "* 4.5. Iterator Types\n",
    "* 4.6. Sequence Types — list, tuple, range\n",
    "* 4.7. Text Sequence Type — str\n",
    "* 4.8. Binary Sequence Types — bytes, bytearray, memoryview\n",
    "* **4.9. Set Types — set, frozenset**\n",
    "* 4.10. Mapping Types — dict\n",
    "* 4.11. Context Manager Types\n",
    "* 4.12. Other Built-in Types\n",
    "* 4.13. Special Attributes\n"
   ]
  },
  {
   "cell_type": "code",
   "execution_count": 13,
   "metadata": {
    "slideshow": {
     "slide_type": "slide"
    }
   },
   "outputs": [
    {
     "name": "stdout",
     "output_type": "stream",
     "text": [
      "Same: [1, 2, 3, 4, 5], different: [6, 7, 8, 9]\n"
     ]
    }
   ],
   "source": [
    "a = [1, 2, 3, 4, 5, 6, 7]\n",
    "b = [1, 2, 3, 4, 5, 8, 9]\n",
    "\n",
    "intersection = list(set(a) & set(b))\n",
    "exclusive = list(set(a) ^ set(b))\n",
    "\n",
    "print('Same: %s, different: %s' % (intersection, exclusive))\n"
   ]
  },
  {
   "cell_type": "code",
   "execution_count": 15,
   "metadata": {
    "slideshow": {
     "slide_type": "subslide"
    }
   },
   "outputs": [
    {
     "data": {
      "text/plain": [
       "{frozenset({1, 2, 3}): 'a', frozenset({2, 3, 4}): 'b'}"
      ]
     },
     "execution_count": 15,
     "metadata": {},
     "output_type": "execute_result"
    }
   ],
   "source": [
    "a = frozenset([1 ,2, 3])\n",
    "b = frozenset([2, 3, 4])\n",
    "{a: 'a', b: 'b'}"
   ]
  },
  {
   "cell_type": "markdown",
   "metadata": {
    "slideshow": {
     "slide_type": "slide"
    }
   },
   "source": [
    "## 8. Data Types\n",
    "\n",
    "* 8.1. datetime — Basic date and time types\n",
    "* 8.2. calendar — General calendar-related functions\n",
    "* **8.3. collections — Container datatypes**\n",
    "* **8.4. collections.abc — Abstract Base Classes for Containers**\n",
    "* 8.5. heapq — Heap queue algorithm\n",
    "* 8.6. bisect — Array bisection algorithm\n",
    "* 8.7. array — Efficient arrays of numeric values\n",
    "* 8.8. weakref — Weak references\n",
    "* 8.9. types — Dynamic type creation and names for built-in types\n",
    "* 8.10. copy — Shallow and deep copy operations\n",
    "* **8.11. pprint — Data pretty printer**\n",
    "* **8.12. reprlib — Alternate repr() implementation**\n",
    "* 8.13. enum — Support for enumerations\n"
   ]
  },
  {
   "cell_type": "markdown",
   "metadata": {
    "slideshow": {
     "slide_type": "subslide"
    }
   },
   "source": [
    "## 6. Text Processing Services\n",
    "\n",
    "* **6.1. string — Common string operations**\n",
    "* **6.2. re — Regular expression operations**\n",
    "* **6.3. difflib — Helpers for computing deltas**\n",
    "* **6.4. textwrap — Text wrapping and filling**\n",
    "* 6.5. unicodedata — Unicode Database\n",
    "* 6.6. stringprep — Internet String Preparation\n",
    "* 6.7. readline — GNU readline interface\n",
    "* 6.8. rlcompleter — Completion function for GNU readline\n"
   ]
  },
  {
   "cell_type": "markdown",
   "metadata": {
    "slideshow": {
     "slide_type": "slide"
    }
   },
   "source": [
    "## 10. Functional Programming Modules\n",
    "\n",
    "* 10.1. itertools — Functions creating iterators for efficient looping\n",
    "* 10.2. functools — Higher-order functions and operations on callable objects\n",
    "* 10.3. operator — Standard operators as functions\n"
   ]
  },
  {
   "cell_type": "markdown",
   "metadata": {
    "slideshow": {
     "slide_type": "slide"
    }
   },
   "source": [
    "## 11. File and Directory Access\n",
    "\n",
    "* **11.1. pathlib — Object-oriented filesystem paths**\n",
    "* 11.2. os.path — Common pathname manipulations\n",
    "* 11.3. fileinput — Iterate over lines from multiple input streams\n",
    "* 11.4. stat — Interpreting stat() results\n",
    "* 11.5. filecmp — File and Directory Comparisons\n",
    "* 11.6. tempfile — Generate temporary files and directories\n",
    "* 11.7. glob — Unix style pathname pattern expansion\n",
    "* 11.8. fnmatch — Unix filename pattern matching\n",
    "* 11.9. linecache — Random access to text lines\n",
    "* 11.10. shutil — High-level file operations\n",
    "* 11.11. macpath — Mac OS 9 path manipulation functions"
   ]
  },
  {
   "cell_type": "markdown",
   "metadata": {
    "slideshow": {
     "slide_type": "slide"
    }
   },
   "source": [
    "## 13. Data Compression and Archiving\n",
    "\n",
    "* 13.1. zlib — Compression compatible with gzip\n",
    "* **13.2. gzip — Support for gzip files**\n",
    "* 13.3. bz2 — Support for bzip2 compression\n",
    "* 13.4. lzma — Compression using the LZMA algorithm\n",
    "* 13.5. zipfile — Work with ZIP archives\n",
    "* 13.6. tarfile — Read and write tar archive files\n",
    "\n",
    "## 14. File Formats\n",
    "\n",
    "* **14.1. csv — CSV File Reading and Writing**\n",
    "* 14.2. configparser — Configuration file parser\n",
    "* 14.3. netrc — netrc file processing\n",
    "* 14.4. xdrlib — Encode and decode XDR data\n",
    "* 14.5. plistlib — Generate and parse Mac OS X .plist files\n"
   ]
  },
  {
   "cell_type": "code",
   "execution_count": null,
   "metadata": {
    "collapsed": true,
    "slideshow": {
     "slide_type": "slide"
    }
   },
   "outputs": [],
   "source": [
    "@lru_cache(maxsize=None)\n",
    "def get_all_concepts(self):\n",
    "    path = os.path.join(self.DATA_DIR, 'concepts_en_list.csv.gz')\n",
    "    with gzip.open(path, 'rt', encoding='utf8') as file:\n",
    "        reader = csv.reader(file)\n",
    "        return {row[0] for row in reader}\n"
   ]
  },
  {
   "cell_type": "markdown",
   "metadata": {
    "slideshow": {
     "slide_type": "slide"
    }
   },
   "source": [
    "## 17. Concurrent Execution\n",
    "\n",
    "* 17.1. threading — Thread-based parallelism\n",
    "* 17.2. multiprocessing — Process-based parallelism\n",
    "* 17.3. The concurrent package\n",
    "* **17.4. concurrent.futures — Launching parallel tasks**\n",
    "* 17.5. subprocess — Subprocess management\n",
    "* 17.6. sched — Event scheduler\n",
    "* 17.7. queue — A synchronized queue class\n",
    "* 17.8. dummy_threading — Drop-in replacement for the threading module\n",
    "* 17.9. _thread — Low-level threading API\n",
    "* 17.10. _dummy_thread — Drop-in replacement for the _thread module\n"
   ]
  },
  {
   "cell_type": "code",
   "execution_count": null,
   "metadata": {
    "collapsed": true,
    "slideshow": {
     "slide_type": "slide"
    }
   },
   "outputs": [],
   "source": [
    "import concurrent.futures\n",
    "\n",
    "with concurrent.futures.ThreadPoolExecutor(max_workers=len(clfs)) as executor:\n",
    "    future_to_clf = {}\n",
    "    for filename, label, attrname in clfs:\n",
    "        future = executor.submit(self.get_classifier, x, classes[label], label)\n",
    "        future_to_clf[future] = (filename, label, attrname)\n",
    "    for future in concurrent.futures.as_completed(future_to_clf):\n",
    "        filename, label, attrname = future_to_clf[future]\n",
    "        clf = future.result()\n",
    "        joblib.dump(clf, os.path.join(self.MODELS_DIR, filename))\n",
    "        setattr(self, attrname, clf)\n"
   ]
  },
  {
   "cell_type": "markdown",
   "metadata": {},
   "source": [
    "## 18. Interprocess Communication and Networking\n",
    "\n",
    "* 18.1. socket — Low-level networking interface\n",
    "* 18.2. ssl — TLS/SSL wrapper for socket objects\n",
    "* 18.3. select — Waiting for I/O completion\n",
    "* 18.4. selectors — High-level I/O multiplexing\n",
    "* **18.5. asyncio — Asynchronous I/O, event loop, coroutines and tasks**\n",
    "* 18.6. asyncore — Asynchronous socket handler\n",
    "* 18.7. asynchat — Asynchronous socket command/response handler\n",
    "* 18.8. signal — Set handlers for asynchronous events\n",
    "* 18.9. mmap — Memory-mapped file support\n"
   ]
  },
  {
   "cell_type": "code",
   "execution_count": 24,
   "metadata": {
    "collapsed": true
   },
   "outputs": [],
   "source": [
    "# https://pawelmhm.github.io/asyncio/python/aiohttp/2016/04/22/asyncio-aiohttp.html\n",
    "# https://github.com/Opentopic/http-mamba/blob/master/http-mamba.py"
   ]
  },
  {
   "cell_type": "markdown",
   "metadata": {},
   "source": [
    "## 21. Internet Protocols and Support\n",
    "\n",
    "* ...\n",
    "* **21.8. urllib.parse — Parse URLs into components**\n",
    "* ...\n",
    "* 21.20. uuid — UUID objects according to RFC 4122\n",
    "* ...\n",
    "\n",
    "\n"
   ]
  },
  {
   "cell_type": "markdown",
   "metadata": {},
   "source": [
    "## 29. Python Runtime Services\n",
    "\n",
    "* 29.1. sys — System-specific parameters and functions\n",
    "* 29.2. sysconfig — Provide access to Python’s configuration information\n",
    "* 29.3. builtins — Built-in objects\n",
    "* 29.4. \\_\\_main\\_\\_ — Top-level script environment\n",
    "* 29.5. warnings — Warning control\n",
    "* **29.6. contextlib — Utilities for with-statement contexts**\n",
    "* 29.7. abc — Abstract Base Classes\n",
    "* 29.8. atexit — Exit handlers\n",
    "* 29.9. traceback — Print or retrieve a stack traceback\n",
    "* 29.10. \\_\\_future\\_\\_ — Future statement definitions\n",
    "* 29.11. gc — Garbage Collector interface\n",
    "* 29.12. inspect — Inspect live objects\n",
    "* 29.13. site — Site-specific configuration hook\n",
    "* 29.14. fpectl — Floating point exception control\n"
   ]
  }
 ],
 "metadata": {
  "celltoolbar": "Slideshow",
  "kernelspec": {
   "display_name": "Python 3",
   "language": "python",
   "name": "python3"
  },
  "language_info": {
   "codemirror_mode": {
    "name": "ipython",
    "version": 3
   },
   "file_extension": ".py",
   "mimetype": "text/x-python",
   "name": "python",
   "nbconvert_exporter": "python",
   "pygments_lexer": "ipython3",
   "version": "3.6.4"
  }
 },
 "nbformat": 4,
 "nbformat_minor": 2
}
